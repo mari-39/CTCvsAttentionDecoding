{
 "cells": [
  {
   "cell_type": "code",
   "execution_count": null,
   "id": "973b2bd0-b219-415c-a094-d28871f3bf1c",
   "metadata": {},
   "outputs": [],
   "source": [
    "# load common voice data into .cache\n",
    "\n",
    "from datasets import load_dataset, Audio\n",
    "\n",
    "low_resource_language_code = \"cy\" # Welsh\n",
    "ds = load_dataset(\"mozilla-foundation/common_voice_11_0\", low_resource_language_code)\n",
    "ds = ds.cast_column(\"audio\", Audio(sampling_rate=16000))"
   ]
  },
  {
   "cell_type": "code",
   "execution_count": null,
   "id": "b3fd5676-5c07-4f16-b0a0-45a92974c7a1",
   "metadata": {},
   "outputs": [],
   "source": [
    "from tqdm import tqdm\n",
    "import soundfile as sf\n",
    "import os\n",
    "\n",
    "train_dataset = []\n",
    "output_dir = \"./speech/train\"\n",
    "os.makedirs(output_dir, exist_ok=True)\n",
    "for i, sample in tqdm(enumerate(ds[\"train\"]), total=len(ds[\"train\"])):\n",
    "    waveform = sample[\"audio\"][\"array\"]\n",
    "    sr = sample[\"audio\"][\"sampling_rate\"]\n",
    "    filename = os.path.join(output_dir, f\"{i:05d}.mp3\")\n",
    "    sf.write(filename, waveform, sr, format=\"mp3\")\n",
    "    train_dataset.append({\n",
    "        \"speech\": filename,\n",
    "        \"text\": sample[\"sentence\"],\n",
    "    })\n",
    "\n",
    "valid_dataset = []\n",
    "output_dir = \"./speech/valid\"\n",
    "os.makedirs(output_dir, exist_ok=True)\n",
    "for i, sample in tqdm(enumerate(ds[\"validation\"]), total=len(ds[\"validation\"])):\n",
    "    waveform = sample[\"audio\"][\"array\"]\n",
    "    sr = sample[\"audio\"][\"sampling_rate\"]\n",
    "    filename = os.path.join(output_dir, f\"{i:05d}.mp3\")\n",
    "    sf.write(filename, waveform, sr, format=\"mp3\")\n",
    "    valid_dataset.append({\n",
    "        \"speech\": filename,\n",
    "        \"text\": sample[\"sentence\"],\n",
    "    })"
   ]
  },
  {
   "cell_type": "code",
   "execution_count": null,
   "id": "2fc31000-85c2-439e-9af5-5df57418c047",
   "metadata": {},
   "outputs": [],
   "source": [
    "# create dump file (list of texts & audio file locations)\n",
    "\n",
    "import espnetez as ez\n",
    "\n",
    "data_info = {\n",
    "    \"speech\": [\"wav.scp\", \"sound\"],\n",
    "    \"text\": [\"text\", \"text\"],\n",
    "}\n",
    "\n",
    "ez.data.create_dump_file(\"./dump/train\", train_dataset, data_info)\n",
    "ez.data.create_dump_file(\"./dump/valid\", valid_dataset, data_info)"
   ]
  },
  {
   "cell_type": "code",
   "execution_count": null,
   "id": "859d24b6-5309-4e72-a4c1-297aab29ee36",
   "metadata": {},
   "outputs": [],
   "source": [
    "# train & save a tokenizer\n",
    "\n",
    "import espnetez as ez\n",
    "\n",
    "# generate training texts from the training data\n",
    "# you can select several datasets to train sentencepiece.\n",
    "ez.preprocess.prepare_sentences([\"dump/train/text\"], \"dump/spm\")\n",
    "ez.preprocess.train_sentencepiece(\n",
    "    \"dump/spm/train.txt\",\n",
    "    \"data/bpemodel\",\n",
    "    vocab_size=1000,\n",
    ")"
   ]
  }
 ],
 "metadata": {
  "kernelspec": {
   "display_name": "espnet",
   "language": "python",
   "name": "espnet"
  },
  "language_info": {
   "codemirror_mode": {
    "name": "ipython",
    "version": 3
   },
   "file_extension": ".py",
   "mimetype": "text/x-python",
   "name": "python",
   "nbconvert_exporter": "python",
   "pygments_lexer": "ipython3",
   "version": "3.10.18"
  }
 },
 "nbformat": 4,
 "nbformat_minor": 5
}
