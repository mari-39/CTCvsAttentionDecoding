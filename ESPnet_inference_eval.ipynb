{
 "cells": [
  {
   "cell_type": "code",
   "execution_count": null,
   "id": "91f0d947-802d-4c1b-bac6-56d097ca0024",
   "metadata": {},
   "outputs": [],
   "source": [
    "# load the model\n",
    "\n",
    "from espnet2.bin.asr_inference import Speech2Text\n",
    "\n",
    "m = Speech2Text(\n",
    "    asr_train_config=\"./exp/train_asr_branchformer_e24_amp/config.yaml\",\n",
    "    asr_model_file=\"./exp/train_asr_branchformer_e24_amp/valid.acc.best.pth\",\n",
    "    lm_train_config=\"exp/lm/cy/rnn/config.yaml\",  # LM config\n",
    "    lm_file=\"exp/lm/cy/rnn/valid.loss.ave.pth\",  # LM model\n",
    "    token_type=\"bpe\",\n",
    "    bpemodel=\"data/bpemodel/bpe.model\",\n",
    "    device=\"cuda\",\n",
    "    beam_size=20,\n",
    "    lm_weight=0.2,\n",
    "    ctc_weight=0.8,\n",
    ")"
   ]
  },
  {
   "cell_type": "code",
   "execution_count": null,
   "id": "a2f70e87-6a48-4624-bdb1-2075d1c1e479",
   "metadata": {},
   "outputs": [],
   "source": [
    "# example inference\n",
    "\n",
    "import librosa\n",
    "\n",
    "i = 5\n",
    "\n",
    "with open(\"./dump/valid/wav.scp\", \"r\") as f:\n",
    "    sample_path = f.readlines()[i]\n",
    "\n",
    "with open(\"./dump/valid/text\", \"r\") as f:\n",
    "    transription = \" \".join(f.readlines()[i].split(\" \")[1:-1])\n",
    "\n",
    "y, sr = librosa.load(sample_path.split()[1], sr=16000, mono=True)\n",
    "nbests = m(y) # run inference on (n) number of best performing models\n",
    "text, *_ = nbests[0] # get the 1st (best) model result\n",
    "\n",
    "print(\"Predicted:\", text)\n",
    "print(\"Label:\", transription)"
   ]
  }
 ],
 "metadata": {
  "kernelspec": {
   "display_name": "espnet",
   "language": "python",
   "name": "espnet"
  },
  "language_info": {
   "codemirror_mode": {
    "name": "ipython",
    "version": 3
   },
   "file_extension": ".py",
   "mimetype": "text/x-python",
   "name": "python",
   "nbconvert_exporter": "python",
   "pygments_lexer": "ipython3",
   "version": "3.10.18"
  }
 },
 "nbformat": 4,
 "nbformat_minor": 5
}
